{
 "cells": [
  {
   "cell_type": "code",
   "execution_count": 1,
   "metadata": {},
   "outputs": [
    {
     "name": "stdout",
     "output_type": "stream",
     "text": [
      "Sania\n",
      "ayesha\n",
      "fatima\n",
      "Sidra\n"
     ]
    }
   ],
   "source": [
    "#Exercise 3-1: Names\n",
    "names: list=['Sania','ayesha','fatima','Sidra']\n",
    "for n in names:\n",
    "  print(n)"
   ]
  },
  {
   "cell_type": "code",
   "execution_count": 2,
   "metadata": {},
   "outputs": [
    {
     "name": "stdout",
     "output_type": "stream",
     "text": [
      "Hello, Sania! Welcome to the Python assignment.\n",
      "Hello, ayesha! Welcome to the Python assignment.\n",
      "Hello, fatima! Welcome to the Python assignment.\n",
      "Hello, Sidra! Welcome to the Python assignment.\n"
     ]
    }
   ],
   "source": [
    "#Exercise 3-2: Greetings\n",
    "for n in names:\n",
    "  print(f\"Hello, {n}! Welcome to the Python assignment.\")"
   ]
  },
  {
   "cell_type": "code",
   "execution_count": 3,
   "metadata": {},
   "outputs": [
    {
     "name": "stdout",
     "output_type": "stream",
     "text": [
      "I would like to own a Yahmaha Bike.\n",
      "I would like to own a Audi car.\n",
      "I would like to own a orange Line.\n"
     ]
    }
   ],
   "source": [
    "#Exercise 3-3: Your Own List\n",
    "fvt_transportation = ['Yahmaha Bike', 'Audi car', 'orange Line']\n",
    "\n",
    "for item in fvt_transportation:\n",
    "    print(f\"I would like to own a {item}.\")"
   ]
  },
  {
   "cell_type": "code",
   "execution_count": 5,
   "metadata": {},
   "outputs": [
    {
     "name": "stdout",
     "output_type": "stream",
     "text": [
      "Dear Sania,\n",
      "You are cordially invited to dinner at my place on Saturday.\n",
      "It would be an honor to have you.\n",
      "Regards,\n",
      "Samrah\n",
      "\n",
      "\n",
      "Dear ayesha,\n",
      "You are cordially invited to dinner at my place on Saturday.\n",
      "It would be an honor to have you.\n",
      "Regards,\n",
      "Samrah\n",
      "\n",
      "\n",
      "Dear fatima,\n",
      "You are cordially invited to dinner at my place on Saturday.\n",
      "It would be an honor to have you.\n",
      "Regards,\n",
      "Samrah\n",
      "\n",
      "\n",
      "Dear Sidra,\n",
      "You are cordially invited to dinner at my place on Saturday.\n",
      "It would be an honor to have you.\n",
      "Regards,\n",
      "Samrah\n",
      "\n",
      "\n"
     ]
    }
   ],
   "source": [
    "#Exercise 3-4: Guest List\n",
    "names: list=['Sania','ayesha','fatima','Sidra']\n",
    "for n in names:\n",
    "  print(f\"Dear {n},\\nYou are cordially invited to dinner at my place on Saturday.\\nIt would be an honor to have you.\\nRegards,\\nSamrah\\n\\n\")"
   ]
  },
  {
   "cell_type": "code",
   "execution_count": 7,
   "metadata": {},
   "outputs": [
    {
     "name": "stdout",
     "output_type": "stream",
     "text": [
      "fatima can't make it to the dinner.\n",
      "\n",
      "Second Set of Invitation Messages.....\n",
      "\n",
      "Dear Sania,\n",
      "You are cordially invited to dinner at my place on Saturday.\n",
      "It would be an honor to have you.\n",
      "Regards,\n",
      "Samrah\n",
      "\n",
      "\n",
      "Dear ayesha,\n",
      "You are cordially invited to dinner at my place on Saturday.\n",
      "It would be an honor to have you.\n",
      "Regards,\n",
      "Samrah\n",
      "\n",
      "\n",
      "Dear Sara,\n",
      "You are cordially invited to dinner at my place on Saturday.\n",
      "It would be an honor to have you.\n",
      "Regards,\n",
      "Samrah\n",
      "\n",
      "\n",
      "Dear Sidra,\n",
      "You are cordially invited to dinner at my place on Saturday.\n",
      "It would be an honor to have you.\n",
      "Regards,\n",
      "Samrah\n",
      "\n",
      "\n"
     ]
    }
   ],
   "source": [
    "#Exercise 3-5: Changing Guest List\n",
    "names: list=['Sania','ayesha','fatima','Sidra']\n",
    "print(f\"{names[2]} can't make it to the dinner.\\n\")\n",
    "names[2] = 'Sara'\n",
    "print('Second Set of Invitation Messages.....\\n')\n",
    "for n in names:\n",
    "  print(f\"Dear {n},\\nYou are cordially invited to dinner at my place on Saturday.\\nIt would be an honor to have you.\\nRegards,\\nSamrah\\n\\n\")"
   ]
  },
  {
   "cell_type": "code",
   "execution_count": 12,
   "metadata": {},
   "outputs": [
    {
     "name": "stdout",
     "output_type": "stream",
     "text": [
      "Good news! We found a bigger dinner table.\n",
      "\n",
      "New Set of Invitation Messages.....\n",
      "\n",
      "Dear Emman,\n",
      "You are cordially invited to dinner at my place on Saturday.\n",
      "It would be an honor to have you.\n",
      "Regards,\n",
      "Samrah\n",
      "\n",
      "\n",
      "Dear Sania,\n",
      "You are cordially invited to dinner at my place on Saturday.\n",
      "It would be an honor to have you.\n",
      "Regards,\n",
      "Samrah\n",
      "\n",
      "\n",
      "Dear Zainab,\n",
      "You are cordially invited to dinner at my place on Saturday.\n",
      "It would be an honor to have you.\n",
      "Regards,\n",
      "Samrah\n",
      "\n",
      "\n",
      "Dear ayesha,\n",
      "You are cordially invited to dinner at my place on Saturday.\n",
      "It would be an honor to have you.\n",
      "Regards,\n",
      "Samrah\n",
      "\n",
      "\n",
      "Dear fatima,\n",
      "You are cordially invited to dinner at my place on Saturday.\n",
      "It would be an honor to have you.\n",
      "Regards,\n",
      "Samrah\n",
      "\n",
      "\n",
      "Dear Sidra,\n",
      "You are cordially invited to dinner at my place on Saturday.\n",
      "It would be an honor to have you.\n",
      "Regards,\n",
      "Samrah\n",
      "\n",
      "\n",
      "Dear meerab,\n",
      "You are cordially invited to dinner at my place on Saturday.\n",
      "It would be an honor to have you.\n",
      "Regards,\n",
      "Samrah\n",
      "\n",
      "\n"
     ]
    }
   ],
   "source": [
    "#Exercise 3-6: More Guests\n",
    "names: list=['Sania','ayesha','fatima','Sidra']\n",
    "print('Good news! We found a bigger dinner table.\\n')\n",
    "names.insert(0,'Emman')\n",
    "names.insert(int(len(names)/2),'Zainab')\n",
    "names.append('meerab')\n",
    "print('New Set of Invitation Messages.....\\n')\n",
    "for n in names:\n",
    "  print(f\"Dear {n},\\nYou are cordially invited to dinner at my place on Saturday.\\nIt would be an honor to have you.\\nRegards,\\nSamrah\\n\\n\")"
   ]
  },
  {
   "cell_type": "code",
   "execution_count": 13,
   "metadata": {},
   "outputs": [
    {
     "name": "stdout",
     "output_type": "stream",
     "text": [
      "Unfortunately, the new dinner table won't arrive in time for the dinner.\n",
      "We can only invite two people for dinner.\n",
      "\n",
      "Dear Emman,\n",
      "You are still invited to dinner at my place on Saturday.\n",
      "It would be an honor to have you.\n",
      "Regards,\n",
      "Samrah\n",
      "\n",
      "\n",
      "Dear Sania,\n",
      "You are still invited to dinner at my place on Saturday.\n",
      "It would be an honor to have you.\n",
      "Regards,\n",
      "Samrah\n",
      "\n",
      "\n",
      "[]\n"
     ]
    }
   ],
   "source": [
    "#Exercise 3-7: Shrinking Guest List\n",
    "print('Unfortunately, the new dinner table won\\'t arrive in time for the dinner.\\nWe can only invite two people for dinner.\\n')\n",
    "for i in range(len(names)-2):\n",
    "  names.pop()\n",
    " \n",
    "for n in names:\n",
    "  print(f\"Dear {n},\\nYou are still invited to dinner at my place on Saturday.\\nIt would be an honor to have you.\\nRegards,\\nSamrah\\n\\n\")\n",
    "del names[0]\n",
    "del names[0]    \n",
    "print(names)\n"
   ]
  },
  {
   "cell_type": "code",
   "execution_count": 14,
   "metadata": {},
   "outputs": [
    {
     "name": "stdout",
     "output_type": "stream",
     "text": [
      "['Dubai', 'Saudia', 'Itly', 'Sydney', 'Turkey']\n",
      "Orignal List: ['Dubai', 'Saudia', 'Itly', 'Sydney', 'Turkey']\n",
      "Sorted List: ['Dubai', 'Itly', 'Saudia', 'Sydney', 'Turkey']\n",
      "Orignal List: ['Dubai', 'Saudia', 'Itly', 'Sydney', 'Turkey']\n",
      "Reverse Sorted List: ['Turkey', 'Sydney', 'Saudia', 'Itly', 'Dubai']\n",
      "Orignal List: ['Dubai', 'Saudia', 'Itly', 'Sydney', 'Turkey']\n",
      "Reversed List: ['Turkey', 'Sydney', 'Itly', 'Saudia', 'Dubai']\n",
      "Orignal List: ['Dubai', 'Saudia', 'Itly', 'Sydney', 'Turkey']\n",
      "Sorted List: ['Dubai', 'Itly', 'Saudia', 'Sydney', 'Turkey']\n",
      "Reverse Sorted List: ['Turkey', 'Sydney', 'Saudia', 'Itly', 'Dubai']\n"
     ]
    }
   ],
   "source": [
    "#Exercise 3-8: Seeing the World\n",
    "locations: list = ['Dubai', 'Saudia', 'Itly', 'Sydney', 'Turkey']\n",
    "print(locations)\n",
    "print(\"Orignal List: {0}\".format( locations))\n",
    "print(\"Sorted List: {0}\".format( sorted(locations)))\n",
    "print(\"Orignal List: {0}\".format( locations))\n",
    "\n",
    "print(\"Reverse Sorted List: {0}\".format( sorted(locations, reverse=True)))\n",
    "print(\"Orignal List: {0}\".format( locations))\n",
    "\n",
    "locations.reverse()\n",
    "print(\"Reversed List: {0}\".format( locations))\n",
    "locations.reverse()\n",
    "print(\"Orignal List: {0}\".format( locations))\n",
    "locations.sort()\n",
    "print(\"Sorted List: {0}\".format( locations))\n",
    "locations.sort(reverse=True)\n",
    "print(\"Reverse Sorted List: {0}\".format( locations))\n"
   ]
  },
  {
   "cell_type": "code",
   "execution_count": 15,
   "metadata": {},
   "outputs": [
    {
     "name": "stdout",
     "output_type": "stream",
     "text": [
      "Number of guests invited to dinner in Exercise 3-4: 4\n",
      "Number of guests invited to dinner in Exercise 3-5: 4\n",
      "Number of guests invited to dinner in Exercise 3-6: 7\n",
      "Number of guests invited to dinner in Exercise 3-7: 0\n"
     ]
    }
   ],
   "source": [
    "#Exercise 3-9: Dinner Guests\n",
    "names: list=['Sania','ayesha','fatima','Sidra']#Exercise 3-4: Guest List\n",
    "print(f\"Number of guests invited to dinner in Exercise 3-4: {len(names)}\")\n",
    "\n",
    "\n",
    "#Exercise 3-5: Changing Guest List\n",
    "#print(f\"{names[2]} can't make it to the dinner.\\n\")\n",
    "names[2] = 'Sara'\n",
    "print(f\"Number of guests invited to dinner in Exercise 3-5: {len(names)}\")\n",
    "\n",
    "\n",
    "#Exercise 3-6: More Guests\n",
    "#print('Good news! We found a bigger dinner table.\\n')\n",
    "names.insert(0,'Emman')\n",
    "names.insert(int(len(names)/2),'Zainab')\n",
    "names.append('meerab')\n",
    "print(f\"Number of guests invited to dinner in Exercise 3-6: {len(names)}\")\n",
    "\n",
    "#Exercise 3-7: Shrinking Guest List\n",
    "#print('Unfortunately, the new dinner table won\\'t arrive in time for the dinner.\\nWe can only invite two people for dinner.\\n')\n",
    "for i in range(len(names)-2):\n",
    "  names.pop()\n",
    "del names[0]\n",
    "del names[0]\n",
    "print(f\"Number of guests invited to dinner in Exercise 3-7: {len(names)}\")"
   ]
  },
  {
   "cell_type": "code",
   "execution_count": 16,
   "metadata": {},
   "outputs": [
    {
     "name": "stdout",
     "output_type": "stream",
     "text": [
      "Orignal List after append London : ['Dubai', 'Saudia', 'Itly', 'Sydney', 'Turkey', 'London']\n",
      "Sorted List: ['Dubai', 'Itly', 'London', 'Paris', 'Saudia', 'Sydney', 'Turkey']\n",
      "Reversed List: ['Turkey', 'Sydney', 'Saudia', 'Paris', 'London', 'Itly', 'Dubai']\n",
      "List after pop and remove: ['Turkey', 'Sydney', 'Saudia', 'London', 'Itly']\n",
      "Reverse Sorted List: ['Turkey', 'Sydney', 'Saudia', 'London', 'Itly']\n",
      "List after clear: []\n"
     ]
    }
   ],
   "source": [
    "#Exercise 3-10: Every Function\n",
    "cities: list = ['Dubai', 'Saudia', 'Itly', 'Sydney', 'Turkey']\n",
    "cities.append('London')\n",
    "print(\"Orignal List after append London : {0}\".format( cities))\n",
    "cities.insert(0,'Paris')\n",
    "\n",
    "cities.sort()\n",
    "print(\"Sorted List: {0}\".format( cities))\n",
    "cities.reverse()\n",
    "print(\"Reversed List: {0}\".format( cities))\n",
    "cities.pop()\n",
    "cities.remove('Paris')\n",
    "print(\"List after pop and remove: {0}\".format( cities))\n",
    "cities.sort(reverse=True)\n",
    "print(\"Reverse Sorted List: {0}\".format( cities))\n",
    "cities.clear()\n",
    "print(\"List after clear: {0}\".format( cities))"
   ]
  },
  {
   "cell_type": "code",
   "execution_count": 17,
   "metadata": {},
   "outputs": [
    {
     "name": "stdout",
     "output_type": "stream",
     "text": [
      "Turkey\n"
     ]
    }
   ],
   "source": [
    "#Exercise 3-11: Intentional Error\n",
    "cities: list = ['Dubai', 'Saudia', 'Itly', 'Sydney', 'Turkey']\n",
    "'''\n",
    "print(cities[5]) #IndexError: list index out of range\n",
    "'''\n",
    "print(cities[4])"
   ]
  }
 ],
 "metadata": {
  "kernelspec": {
   "display_name": "Python 3",
   "language": "python",
   "name": "python3"
  },
  "language_info": {
   "codemirror_mode": {
    "name": "ipython",
    "version": 3
   },
   "file_extension": ".py",
   "mimetype": "text/x-python",
   "name": "python",
   "nbconvert_exporter": "python",
   "pygments_lexer": "ipython3",
   "version": "3.13.1"
  }
 },
 "nbformat": 4,
 "nbformat_minor": 2
}
